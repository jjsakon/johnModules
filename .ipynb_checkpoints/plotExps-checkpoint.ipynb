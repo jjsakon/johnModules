{
 "cells": [
  {
   "cell_type": "markdown",
   "metadata": {},
   "source": [
    "# Daniel suggestions"
   ]
  },
  {
   "cell_type": "code",
   "execution_count": null,
   "metadata": {},
   "outputs": [],
   "source": [
    "fig, ax = plt.subplots(1, 2, figsize=(12, 4), dpi=300)\n",
    "ax = np.ravel(ax)\n",
    "i = 0  # first axis\n",
    "ax[i].plot()\n",
    "i = 1\n",
    "ax[i].plot()\n",
    "\n",
    "fig, ax = plt.subplots(1, 2, figsize=(12, 4), dpi=300)\n",
    "ax = np.ravel(ax)\n",
    "for i in range(len(ax)):\n",
    "   # generate plots here...\n",
    "    ax[i].plot()\n",
    "    ax.set_xlim(), ax.set_xticks(), ax.set_xticklabels()\n",
    "   # configure axis params here...\n",
    "# Config fig params here.\n",
    "fig.tight_layout()"
   ]
  },
  {
   "cell_type": "markdown",
   "metadata": {},
   "source": [
    "# spectrogram"
   ]
  },
  {
   "cell_type": "code",
   "execution_count": null,
   "metadata": {},
   "outputs": [],
   "source": [
    "from general import parula_map\n",
    "\n",
    "print(np.shape(SWR_across_sessions))\n",
    "\n",
    "matshow(np.mean(stats.zscore(SWR_across_sessions,2), 0), fignum=0, aspect='auto', cmap=parula_map, vmin=0, vmax=1.6) # 'viridis'\n",
    "\n",
    "# y-axis\n",
    "gca().invert_yaxis()\n",
    "ytick_size = 50\n",
    "yticks(np.arange(0,len(freqs),ytick_size), np.arange(25,225.1,ytick_size,dtype=int), fontsize=12) # positions, labels\n",
    "# setp(gca().get_yticklabels()[::2], visible=False) # get every other\n",
    "ylabel('Frequency (Hz)', fontsize=14)\n",
    "\n",
    "# x-axis\n",
    "gca().xaxis.set_ticks_position('bottom')\n",
    "xtick_size = 100\n",
    "xticks(np.arange(0,2*morlet_dist+0.1,xtick_size), np.arange(-200,200+0.1,xtick_size,dtype=int),fontsize=12)\n",
    "# setp(gca().get_xticklabels()[::2], visible=False)\n",
    "xlabel('Time (ms)', fontsize=14)\n",
    "colorbar();"
   ]
  }
 ],
 "metadata": {
  "kernelspec": {
   "display_name": "env1",
   "language": "python",
   "name": "env1"
  },
  "language_info": {
   "codemirror_mode": {
    "name": "ipython",
    "version": 3
   },
   "file_extension": ".py",
   "mimetype": "text/x-python",
   "name": "python",
   "nbconvert_exporter": "python",
   "pygments_lexer": "ipython3",
   "version": "3.7.5"
  }
 },
 "nbformat": 4,
 "nbformat_minor": 4
}

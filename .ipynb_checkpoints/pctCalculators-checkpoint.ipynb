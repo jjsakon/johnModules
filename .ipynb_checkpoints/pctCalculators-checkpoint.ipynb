{
 "cells": [
  {
   "cell_type": "code",
   "execution_count": 6,
   "metadata": {},
   "outputs": [
    {
     "data": {
      "text/plain": [
       "0.3868"
      ]
     },
     "execution_count": 6,
     "metadata": {},
     "output_type": "execute_result"
    }
   ],
   "source": [
    "# use %s to predict first round series\n",
    "import random\n",
    "LAL = 0\n",
    "for n in range(10000):\n",
    "    laker_wins = 0\n",
    "    blazer_wins = 0\n",
    "    while laker_wins<4 and blazer_wins<4:\n",
    "        if random.random()>0.55:\n",
    "            laker_wins+=1\n",
    "        else:\n",
    "            blazer_wins+=1\n",
    "    if laker_wins==4:\n",
    "        LAL+=1        \n",
    "LAL/10000"
   ]
  },
  {
   "cell_type": "code",
   "execution_count": null,
   "metadata": {},
   "outputs": [],
   "source": []
  }
 ],
 "metadata": {
  "kernelspec": {
   "display_name": "env1",
   "language": "python",
   "name": "env1"
  },
  "language_info": {
   "codemirror_mode": {
    "name": "ipython",
    "version": 3
   },
   "file_extension": ".py",
   "mimetype": "text/x-python",
   "name": "python",
   "nbconvert_exporter": "python",
   "pygments_lexer": "ipython3",
   "version": "3.7.5"
  }
 },
 "nbformat": 4,
 "nbformat_minor": 4
}

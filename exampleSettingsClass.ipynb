{
 "cells": [
  {
   "cell_type": "code",
   "execution_count": null,
   "metadata": {},
   "outputs": [],
   "source": [
    "settings = Settings()\n",
    "settings.freqs = np.arange(3, 25, 1)\n",
    "settings.exp_list = ['catFR1']\n",
    "settings.time_range = (-750, 750)\n",
    "settings.bin_Hz = 250\n",
    "settings.spos_ranges = [[i] for i in range(1,13)]\n",
    "settings.Save('theta_no_behavioral.pkl')\n",
    "\n",
    "\n",
    "\n",
    "def RunPhaseSpreadNoBeh(sub):\n",
    "    import numpy as np\n",
    "\n",
    "    from CMLTools import Settings, SubjectDataFrames, CMLReadDFRow, Locator, \\\n",
    "                      LogDFException, LogException, SpectralAnalysis\n",
    "\n",
    "    try:\n",
    "        error_suffix = 'nobeh_'+sub\n",
    "\n",
    "        settings = Settings.Load('theta_no_behavioral.pkl')\n",
    "\n",
    "        df_sub = SubjectDataFrames(sub)\n",
    "        df_sub = df_sub[[s in settings.exp_list for s in df_sub['experiment']]]\n",
    "        locmasks = []\n",
    "\n",
    "        sess_cnt=0\n",
    "        valid_sess = []\n",
    "        for row in df_sub.itertuples():\n",
    "            try:\n",
    "                reader = CMLReadDFRow(row)\n",
    "                locmask = Locator(reader).Hippocampus()\n",
    "                locmasks.append(locmask)\n",
    "                valid_sess.append(sess_cnt)\n",
    "            except Exception as e:\n",
    "                LogDFException(row, e, error_suffix)\n",
    "                sess_cnt += 1\n",
    "        mask_array = np.zeros(len(df_sub), dtype=bool)\n",
    "        mask_array[valid_sess] = 1\n",
    "        df_sub = df_sub[mask_array]\n",
    "\n",
    "        sa = SpectralAnalysis(settings.freqs, dfs=df_sub, elec_masks=locmasks, \\\n",
    "            time_range=settings.time_range, bin_Hz=settings.bin_Hz,split_recall=False)\n",
    "        results = sa.PhaseSpreadSerPos(settings.spos_ranges)\n",
    "\n",
    "        np.save('spread_nobeh_sub_'+sub+'.npy', [settings.freqs,settings.spos_ranges, \\\n",
    "                                              results, sa.Ns])\n",
    "        np.save('spos_recall_'+sub+'.npy', [sa.sposarr, sa.list_count])\n",
    "    except Exception as e:\n",
    "        LogException(e, error_suffix)\n",
    "        return False\n",
    "\n",
    "    return True\n",
    "\n",
    "ClusterRun(RunPhaseSpreadNoBeh, subs_cathips)"
   ]
  }
 ],
 "metadata": {
  "kernelspec": {
   "display_name": "env1",
   "language": "python",
   "name": "env1"
  },
  "language_info": {
   "codemirror_mode": {
    "name": "ipython",
    "version": 3
   },
   "file_extension": ".py",
   "mimetype": "text/x-python",
   "name": "python",
   "nbconvert_exporter": "python",
   "pygments_lexer": "ipython3",
   "version": "3.7.5"
  }
 },
 "nbformat": 4,
 "nbformat_minor": 4
}

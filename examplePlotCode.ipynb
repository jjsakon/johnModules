{
 "cells": [
  {
   "cell_type": "markdown",
   "metadata": {},
   "source": [
    "# Daniel suggestions"
   ]
  },
  {
   "cell_type": "code",
   "execution_count": null,
   "metadata": {},
   "outputs": [],
   "source": [
    "fig, ax = plt.subplots(1, 2, figsize=(12, 4), dpi=300)\n",
    "ax = np.ravel(ax)\n",
    "i = 0  # first axis\n",
    "ax[i].plot()\n",
    "i = 1\n",
    "ax[i].plot()\n",
    "\n",
    "fig, ax = plt.subplots(1, 2, figsize=(12, 4), dpi=300)\n",
    "ax = np.ravel(ax)\n",
    "for i in range(len(ax)):\n",
    "   # generate plots here...\n",
    "    ax[i].plot()\n",
    "    ax.set_xlim(), ax.set_xticks(), ax.set_xticklabels()\n",
    "   # configure axis params here...\n",
    "# Config fig params here.\n",
    "fig.tight_layout()"
   ]
  },
  {
   "cell_type": "markdown",
   "metadata": {},
   "source": [
    "# spectrogram"
   ]
  },
  {
   "cell_type": "code",
   "execution_count": null,
   "metadata": {},
   "outputs": [],
   "source": [
    "from general import parula_map\n",
    "\n",
    "print(np.shape(SWR_across_sessions))\n",
    "\n",
    "matshow(np.mean(stats.zscore(SWR_across_sessions,2), 0), fignum=0, aspect='auto', cmap=parula_map, vmin=0, vmax=1.6) # 'viridis'\n",
    "\n",
    "# y-axis\n",
    "gca().invert_yaxis()\n",
    "ytick_size = 50\n",
    "yticks(np.arange(0,len(freqs),ytick_size), np.arange(25,225.1,ytick_size,dtype=int), fontsize=12) # positions, labels\n",
    "# setp(gca().get_yticklabels()[::2], visible=False) # get every other\n",
    "ylabel('Frequency (Hz)', fontsize=14)\n",
    "\n",
    "# x-axis\n",
    "gca().xaxis.set_ticks_position('bottom')\n",
    "xtick_size = 100\n",
    "xticks(np.arange(0,2*morlet_dist+0.1,xtick_size), np.arange(-200,200+0.1,xtick_size,dtype=int),fontsize=12)\n",
    "# setp(gca().get_xticklabels()[::2], visible=False)\n",
    "xlabel('Time (ms)', fontsize=14)\n",
    "colorbar();\n",
    "\n",
    "if save_fig == 1:\n",
    "    fname = '/home1/john/SWR/figures/spectrograms/'+sub+'_'+\\\n",
    "        location_selected+'_'+str(np.shape(SWR_across_sessions)[0])+'_ripples.pdf'\n",
    "    savefig(fname,format='pdf',transparent=True)"
   ]
  },
  {
   "cell_type": "markdown",
   "metadata": {},
   "source": [
    "## NEED TO DO THIS FOR MATPLOTLIB TOOOO"
   ]
  },
  {
   "cell_type": "code",
   "execution_count": null,
   "metadata": {},
   "outputs": [],
   "source": [
    "def set_pubfig():\n",
    "    sb.set_context(\"paper\", rc={\"font.size\":14,\"axes.titlesize\":14,\"axes.labelsize\":14,\"axes.ticksize\":12}) \n",
    "    \n",
    "def defaultPlotting(): \n",
    "    sb.set(rc={'figure.figsize':(11.7,8.27),\"font.size\":20,\"axes.titlesize\":20,\"axes.labelsize\":20},style=\"white\")\n",
    "\n",
    "set_pubfig() # defaultPlotting()\n",
    "plot_df = pd.DataFrame({'avg_recall_num':sub_avg_recall_num,'ripple_rates':rate_accum})\n",
    "fig1 = sb.lmplot(x='avg_recall_num',y='ripple_rates',data=plot_df,line_kws = {'color': 'black'},scatter_kws = {'color': 'black'})\n",
    "gca().set(ylim=(0,0.85),xlim=(1.5,5.5))\n",
    "gca().tick_params(labelsize=12)\n",
    "# gca().set_xticks(gca().get_xticks())\n",
    "# gca().set_xticklabels(gca().get_xticks(),rotation=0)\n",
    "# gca().set_ylabel(size=14)\n",
    "# gca().set(xticks=np.arange(2,5,0.5))\n",
    "\n",
    "plot_corr = np.corrcoef(sub_avg_recall_num,rate_accum)[0][1]\n",
    "annotate('Correlation: '+str(np.round(plot_corr,3)),(3,0.025))\n",
    "ylabel('Pre-recall bin ripple rates (Hz)')\n",
    "xlabel('Average recalls/list for subject')\n",
    "title('Ripple rates v. memory performance')\n",
    "show()"
   ]
  },
  {
   "cell_type": "markdown",
   "metadata": {},
   "source": [
    "## correlation and linear fit"
   ]
  },
  {
   "cell_type": "code",
   "execution_count": null,
   "metadata": {},
   "outputs": [],
   "source": [
    "# Fig 2c is logit(conn) values v. the residuals of t-statistic after factoring out distance\n",
    "\n",
    "stim_distmat = distmat[stimbp] # get distances from stim channel\n",
    "stim_distmat[~good_chan] = np.nan; sess_Ts[~good_chan] = np.nan # bad channels will be removed\n",
    "stim_distmat[stimbp] = np.nan; sess_Ts[stimbp] = np.nan # just in case not already remove stim channel too\n",
    "resid_stim = residTstat(stim_distmat, sess_Ts)\n",
    "\n",
    "fig2c,ax2c = plt.subplots()\n",
    "_ = ax2c.plot(good_conns,resid_stim,marker='o',markerfacecolor=[0,0,0],\n",
    "          markersize=5,alpha=1,linestyle='',label='',markeredgewidth=0)\n",
    "_ = ax2c.spines['top'].set_visible(False)\n",
    "_ = ax2c.spines['right'].set_visible(False)\n",
    "_ = ax2c.set_ylabel('Residual stim. effect')\n",
    "_ = ax2c.set_xlabel('Logit (5-13 Hz coherence)')\n",
    "\n",
    "corr = np.corrcoef(resid_stim,good_conns)\n",
    "corr\n",
    "\n",
    "reg = stats.linregress(good_conns,resid_stim) #slope, intercept, r_value\n",
    "print(reg.pvalue)\n",
    "\n",
    "# add r and line fit to plot\n",
    "xr = np.arange(np.min(good_conns),np.max(good_conns),0.01)\n",
    "_ = ax2c.plot(xr,xr*reg.slope+reg.intercept,marker='',linewidth=2,linestyle='--',color=[1,0,0])\n",
    "_ = ax2c.text(-1,-1,'r = '+str(round(reg.rvalue,2)))\n",
    "_ = fig2c.tight_layout()\n",
    "ax2c.tick_params(axis='x',which='both',bottom=True)\n",
    "ax2c.tick_params(axis='y',which='both',left=True)\n",
    "if save_figs == 1:\n",
    "    plt.savefig('figures/'+sub+'/Fig2C-sess'+str(session)+'.pdf',transparent=True) "
   ]
  },
  {
   "cell_type": "markdown",
   "metadata": {},
   "source": [
    "## plot by parametric colors and inset plot"
   ]
  },
  {
   "cell_type": "code",
   "execution_count": null,
   "metadata": {},
   "outputs": [],
   "source": [
    "# now can visualize by plotting the binned average of each\n",
    "\n",
    "stats_bin = 500 # time bin width in ms to test stats on\n",
    "\n",
    "xr = np.arange(250,4001,500)\n",
    "\n",
    "from matplotlib import cm\n",
    "colormap = plt.cm.inferno # copper\n",
    "colors = [colormap(i) for i in np.linspace(0, 0.7, len(plot_save))]\n",
    "\n",
    "delta_ripple_rate = []\n",
    "\n",
    "for i,num_recalls in enumerate(range(len(plot_save))):\n",
    "    \n",
    "    # bin it\n",
    "    temp_binned_array = binBinaryArray(np.array(plot_save[num_recalls])[:,1:],stats_bin,sr_factor)\n",
    "    \n",
    "    delta_ripple_rate.append(np.mean(temp_binned_array[:,3])-np.mean(temp_binned_array[:,1]))\n",
    "    \n",
    "    plot(xr,np.mean(temp_binned_array,0),color=colors[i])\n",
    "\n",
    "title('Subject '+sub)\n",
    "ylabel('Ripple rate')\n",
    "xlabel('Time from recall (ms)')\n",
    "xticks(xr-250,np.arange(-2000,2001,500))\n",
    "gca().set_ylim(0,0.7)\n",
    "gca().set_xlim(0,4000)\n",
    "legend(unique_recall_nums,title='Number of recalls in list',ncol=2,frameon=False)\n",
    "\n",
    "# plot delta ripple rate v. number of recalls\n",
    "\n",
    "# for num_recalls in range(len(plot_save)):\n",
    "\n",
    "axins = gca().inset_axes([0.2, 0.125, 0.25, 0.25])\n",
    "    \n",
    "axins.plot(unique_recall_nums,delta_ripple_rate,color=(0,0,0))\n",
    "axins.tick_params(labelsize=8)\n",
    "\n",
    "axins.set_ylabel(u'Δ ripple rate (Hz)')\n",
    "axins.set_xlabel('Recalls/list')\n",
    "axins.xaxis.set_label_coords(0.51,-0.29) \n",
    "axins.set_ylim(0,0.17)\n",
    "gcf().tight_layout()\n",
    "axins.set_xticks(np.arange(np.min(unique_recall_nums),np.max(unique_recall_nums)+0.01,1))\n",
    "axins.set_yticks(np.arange(0,np.max(delta_ripple_rate),0.05))\n",
    "\n",
    "# reg = stats.linregress(unique_recall_nums,delta_ripple_rate) #slope, intercept, r_value\n",
    "# annotate('Correlation: '+str(np.round(reg.rvalue,3)),(3.5,-0.2))\n",
    "\n",
    "xr = np.arange(np.min(unique_recall_nums),np.max(unique_recall_nums),0.01)\n",
    "axins.plot(xr,xr*reg.slope+reg.intercept,marker='',linewidth=2,linestyle='dotted',color=[1,0,0])\n",
    "\n",
    "a = 1;"
   ]
  }
 ],
 "metadata": {
  "kernelspec": {
   "display_name": "env1",
   "language": "python",
   "name": "env1"
  },
  "language_info": {
   "codemirror_mode": {
    "name": "ipython",
    "version": 3
   },
   "file_extension": ".py",
   "mimetype": "text/x-python",
   "name": "python",
   "nbconvert_exporter": "python",
   "pygments_lexer": "ipython3",
   "version": "3.7.5"
  }
 },
 "nbformat": 4,
 "nbformat_minor": 4
}

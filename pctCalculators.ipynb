{
 "cells": [
  {
   "cell_type": "code",
   "execution_count": 17,
   "metadata": {},
   "outputs": [
    {
     "data": {
      "text/plain": [
       "0.3872"
      ]
     },
     "execution_count": 17,
     "metadata": {},
     "output_type": "execute_result"
    }
   ],
   "source": [
    "# use %s to predict first round series\n",
    "import random\n",
    "import numpy as np\n",
    "import matplotlib as plt\n",
    "\n",
    "LAL = 0\n",
    "for n in range(10000):\n",
    "    laker_wins = 0\n",
    "    blazer_wins = 0\n",
    "    while laker_wins<4 and blazer_wins<4:\n",
    "        if random.random()>0.55:\n",
    "            laker_wins+=1\n",
    "        else:\n",
    "            blazer_wins+=1\n",
    "    if laker_wins==4:\n",
    "        LAL+=1        \n",
    "LAL/10000"
   ]
  },
  {
   "cell_type": "code",
   "execution_count": 161,
   "metadata": {},
   "outputs": [
    {
     "data": {
      "image/png": "[encoded data removed]",
      "text/plain": [
       "<Figure size 432x288 with 1 Axes>"
      ]
     },
     "metadata": {
      "needs_background": "light"
     },
     "output_type": "display_data"
    }
   ],
   "source": [
    "# predict distribution of series\n",
    "\n",
    "odds_of_favorite = 0.75\n",
    "\n",
    "LAL = []\n",
    "POR = []\n",
    "for n in range(10000):\n",
    "    laker_wins = 0\n",
    "    blazer_wins = 0\n",
    "    while laker_wins<4 and blazer_wins<4:\n",
    "        if random.random()>(1-odds_of_favorite):\n",
    "            laker_wins+=1\n",
    "        else:\n",
    "            blazer_wins+=1\n",
    "    if laker_wins==4 or blazer_wins == 4:\n",
    "        LAL.append(laker_wins)\n",
    "        POR.append(blazer_wins)\n",
    "        \n",
    "import matplotlib.pyplot as plt\n",
    "\n",
    "LAL = np.array(LAL)\n",
    "POR = np.array(POR)\n",
    "games = LAL+POR\n",
    "LAL_series = games[LAL>=4]\n",
    "POR_series = games[POR>=4]\n",
    "\n",
    "xr = np.arange(4,8)\n",
    "p1 = np.histogram(LAL_series,range(4,9))\n",
    "p2 = np.histogram(POR_series,range(4,9))\n",
    "barwidth = 0.25\n",
    "plt.bar(xr, p1[0]/10000, color='g', width=barwidth, edgecolor='white', label='team 1')\n",
    "plt.bar([x + barwidth for x in xr], p2[0]/10000, color='b', width=barwidth, edgecolor='white', label='team 2')\n",
    "plt.xticks([r + barwidth for r in range(4,8)], ['4','5','6','7'])\n",
    "plt.legend()\n",
    "plt.show();        "
   ]
  },
  {
   "cell_type": "code",
   "execution_count": 67,
   "metadata": {},
   "outputs": [
    {
     "data": {
      "text/plain": [
       "[4.2, 5.2, 6.2, 7.2]"
      ]
     },
     "execution_count": 67,
     "metadata": {},
     "output_type": "execute_result"
    }
   ],
   "source": [
    "[x + barwidth for x in xr]"
   ]
  },
  {
   "cell_type": "code",
   "execution_count": 35,
   "metadata": {},
   "outputs": [
    {
     "name": "stdout",
     "output_type": "stream",
     "text": [
      "% of permutated bubble seasons with a 7+ win team\n"
     ]
    },
    {
     "data": {
      "text/plain": [
       "93.45"
      ]
     },
     "execution_count": 35,
     "metadata": {},
     "output_type": "execute_result"
    }
   ],
   "source": [
    "import numpy as np\n",
    "import random\n",
    "ct = 0\n",
    "for perm in range(10000):\n",
    "    team_wins = np.zeros(22)\n",
    "    odds = [2.5,3.5,5.5,3.5,2.5,3.5,3.5,2.5,1.5,5.5,4.5,3.5,5.5,5.5,4.5,6.5,4.5,5.5,4.5,4.5,4,4]\n",
    "    for team in range(22):\n",
    "        for game in range(8):\n",
    "            if random.uniform(0,1)<(odds[team]/8):\n",
    "                team_wins[team]+=1\n",
    "    if 8 in team_wins or 7 in team_wins:\n",
    "        ct+=1\n",
    "print('% of permutated bubble seasons with a 7+ win team')\n",
    "ct/100"
   ]
  },
  {
   "cell_type": "code",
   "execution_count": 37,
   "metadata": {},
   "outputs": [
    {
     "name": "stdout",
     "output_type": "stream",
     "text": [
      "avg games until 140+\n"
     ]
    },
    {
     "data": {
      "text/plain": [
       "34.82142857142857"
      ]
     },
     "execution_count": 37,
     "metadata": {},
     "output_type": "execute_result"
    },
    {
     "name": "stdout",
     "output_type": "stream",
     "text": [
      "games left\n"
     ]
    },
    {
     "data": {
      "text/plain": [
       "88"
      ]
     },
     "execution_count": 37,
     "metadata": {},
     "output_type": "execute_result"
    }
   ],
   "source": [
    "print('avg games until 140+')\n",
    "games_played = 65*15\n",
    "games_played/28 # 28 140+ games so far\n",
    "print('games left')\n",
    "8*11"
   ]
  },
  {
   "cell_type": "code",
   "execution_count": 162,
   "metadata": {},
   "outputs": [
    {
     "data": {
      "text/plain": [
       "1424"
      ]
     },
     "execution_count": 162,
     "metadata": {},
     "output_type": "execute_result"
    }
   ],
   "source": [
    "345+349+359+371"
   ]
  },
  {
   "cell_type": "code",
   "execution_count": 163,
   "metadata": {},
   "outputs": [
    {
     "data": {
      "text/plain": [
       "356.0"
      ]
     },
     "execution_count": 163,
     "metadata": {},
     "output_type": "execute_result"
    }
   ],
   "source": [
    "1424/4"
   ]
  },
  {
   "cell_type": "code",
   "execution_count": null,
   "metadata": {},
   "outputs": [],
   "source": []
  }
 ],
 "metadata": {
  "kernelspec": {
   "display_name": "env1",
   "language": "python",
   "name": "env1"
  },
  "language_info": {
   "codemirror_mode": {
    "name": "ipython",
    "version": 3
   },
   "file_extension": ".py",
   "mimetype": "text/x-python",
   "name": "python",
   "nbconvert_exporter": "python",
   "pygments_lexer": "ipython3",
   "version": "3.7.5"
  }
 },
 "nbformat": 4,
 "nbformat_minor": 4
}
